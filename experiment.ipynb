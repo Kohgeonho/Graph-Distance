{
 "cells": [
  {
   "cell_type": "code",
   "execution_count": 1,
   "metadata": {},
   "outputs": [],
   "source": [
    "from algorithms import GraphGenerator, GraphConverter, Dijkstra, BellmanFord, BFS, Floyd\n",
    "from time import time\n",
    "from tqdm import tqdm"
   ]
  },
  {
   "attachments": {},
   "cell_type": "markdown",
   "metadata": {},
   "source": [
    "### Unweighted Graph"
   ]
  },
  {
   "cell_type": "code",
   "execution_count": 5,
   "metadata": {},
   "outputs": [
    {
     "name": "stderr",
     "output_type": "stream",
     "text": [
      "6000000it [00:01, 3256003.55it/s]\n"
     ]
    }
   ],
   "source": [
    "V, E = 100000, 6000000\n",
    "T = GraphGenerator(V, E)\n",
    "G = GraphConverter(T, V, E, returnType=\"dict\", weighted=False)"
   ]
  },
  {
   "cell_type": "code",
   "execution_count": 6,
   "metadata": {},
   "outputs": [
    {
     "name": "stdout",
     "output_type": "stream",
     "text": [
      "17.224592685699463s\n"
     ]
    }
   ],
   "source": [
    "start = time()\n",
    "Dijkstra(G, V, 1)\n",
    "print(f\"{time() - start}s\")"
   ]
  },
  {
   "cell_type": "code",
   "execution_count": 7,
   "metadata": {},
   "outputs": [
    {
     "name": "stdout",
     "output_type": "stream",
     "text": [
      "2.257218599319458s\n"
     ]
    }
   ],
   "source": [
    "start = time()\n",
    "BFS(G, V, 1)\n",
    "print(f\"{time() - start}s\")"
   ]
  },
  {
   "attachments": {},
   "cell_type": "markdown",
   "metadata": {},
   "source": [
    "### Expriment 1: Weighted Graph (E < V^2)"
   ]
  },
  {
   "attachments": {},
   "cell_type": "markdown",
   "metadata": {},
   "source": [
    "#### Single vertex to others"
   ]
  },
  {
   "cell_type": "code",
   "execution_count": 2,
   "metadata": {},
   "outputs": [
    {
     "name": "stderr",
     "output_type": "stream",
     "text": [
      "100%|██████████| 300000/300000 [01:53<00:00, 2647.93it/s]\n"
     ]
    }
   ],
   "source": [
    "V, E = 20000, 300000\n",
    "T = GraphGenerator(V, E)\n",
    "G = GraphConverter(T, V, E, returnType=\"dict\")"
   ]
  },
  {
   "cell_type": "code",
   "execution_count": 4,
   "metadata": {},
   "outputs": [
    {
     "name": "stdout",
     "output_type": "stream",
     "text": [
      "0.35437965393066406s\n"
     ]
    }
   ],
   "source": [
    "start = time()\n",
    "Dijkstra(G, V, 1)\n",
    "print(f\"{time() - start}s\")"
   ]
  },
  {
   "cell_type": "code",
   "execution_count": 5,
   "metadata": {},
   "outputs": [
    {
     "name": "stdout",
     "output_type": "stream",
     "text": [
      "1.6347362995147705s\n"
     ]
    }
   ],
   "source": [
    "start = time()\n",
    "BellmanFord(G, V, 1)\n",
    "print(f\"{time() - start}s\")"
   ]
  },
  {
   "attachments": {},
   "cell_type": "markdown",
   "metadata": {},
   "source": [
    "#### All vertices to all vertices (E < V^2)"
   ]
  },
  {
   "cell_type": "code",
   "execution_count": 14,
   "metadata": {},
   "outputs": [
    {
     "name": "stderr",
     "output_type": "stream",
     "text": [
      "100%|██████████| 2500/2500 [00:00<00:00, 34232.40it/s]\n"
     ]
    }
   ],
   "source": [
    "V, E = 500, 2500\n",
    "T = GraphGenerator(V, E)\n",
    "G = GraphConverter(T, V, E, returnType=\"dict\")\n",
    "M = GraphConverter(T, V, E, returnType=\"matrix\")"
   ]
  },
  {
   "cell_type": "code",
   "execution_count": 15,
   "metadata": {},
   "outputs": [
    {
     "name": "stdout",
     "output_type": "stream",
     "text": [
      "0.7375702857971191s\n"
     ]
    }
   ],
   "source": [
    "start = time()\n",
    "for v in range(1, V+1): \n",
    "    Dijkstra(G, V, v)\n",
    "print(f\"{time() - start}s\")"
   ]
  },
  {
   "cell_type": "code",
   "execution_count": 16,
   "metadata": {},
   "outputs": [
    {
     "name": "stdout",
     "output_type": "stream",
     "text": [
      "2.7040088176727295s\n"
     ]
    }
   ],
   "source": [
    "start = time()\n",
    "for v in range(1, V+1):\n",
    "    BellmanFord(G, V, v)\n",
    "print(f\"{time() - start}s\")"
   ]
  },
  {
   "cell_type": "code",
   "execution_count": 17,
   "metadata": {},
   "outputs": [
    {
     "name": "stdout",
     "output_type": "stream",
     "text": [
      "236.95746207237244s\n"
     ]
    }
   ],
   "source": [
    "from itertools import chain\n",
    "\n",
    "def BellmanFord(G, V, src, Gtype=\"dict\", DMAX=10000001):\n",
    "    D = [DMAX] * (V + 1)\n",
    "    D[src] = 0\n",
    "\n",
    "    for _ in range(V):\n",
    "        for s, dist, d in chain((s, dist, d) for s in G for dist, d in G[s]):\n",
    "            if D[s] < DMAX and D[s] + dist < D[d]:\n",
    "                D[d] = D[s] + dist\n",
    "\n",
    "    return D\n",
    "\n",
    "start = time()\n",
    "for v in range(1, V+1):\n",
    "    BellmanFord(G, V, v)\n",
    "print(f\"{time() - start}s\")"
   ]
  },
  {
   "cell_type": "code",
   "execution_count": 13,
   "metadata": {},
   "outputs": [
    {
     "name": "stdout",
     "output_type": "stream",
     "text": [
      "42.171273708343506s\n"
     ]
    }
   ],
   "source": [
    "start = time()\n",
    "Floyd(M, V)\n",
    "print(f\"{time() - start}s\")"
   ]
  },
  {
   "attachments": {},
   "cell_type": "markdown",
   "metadata": {},
   "source": [
    "#### All vertices to all vertices (E > V^2)"
   ]
  },
  {
   "cell_type": "code",
   "execution_count": 2,
   "metadata": {},
   "outputs": [
    {
     "name": "stderr",
     "output_type": "stream",
     "text": [
      "100%|██████████| 100000/100000 [00:01<00:00, 63887.57it/s]\n"
     ]
    }
   ],
   "source": [
    "V, E = 100, 100000\n",
    "T = GraphGenerator(V, E)\n",
    "G = GraphConverter(T, V, E, returnType=\"dict\")\n",
    "M = GraphConverter(T, V, E, returnType=\"matrix\")"
   ]
  },
  {
   "cell_type": "code",
   "execution_count": 7,
   "metadata": {},
   "outputs": [
    {
     "name": "stderr",
     "output_type": "stream",
     "text": [
      "100%|██████████| 100/100 [00:24<00:00,  4.14it/s]"
     ]
    },
    {
     "name": "stdout",
     "output_type": "stream",
     "text": [
      "24.183754205703735s\n"
     ]
    },
    {
     "name": "stderr",
     "output_type": "stream",
     "text": [
      "\n"
     ]
    }
   ],
   "source": [
    "start = time()\n",
    "for v in tqdm(range(1, V+1)): \n",
    "    Dijkstra(G, V, v)\n",
    "print(f\"{time() - start}s\")"
   ]
  },
  {
   "cell_type": "code",
   "execution_count": 8,
   "metadata": {},
   "outputs": [
    {
     "name": "stderr",
     "output_type": "stream",
     "text": [
      "100%|██████████| 100/100 [00:15<00:00,  6.55it/s]"
     ]
    },
    {
     "name": "stdout",
     "output_type": "stream",
     "text": [
      "15.262537240982056s\n"
     ]
    },
    {
     "name": "stderr",
     "output_type": "stream",
     "text": [
      "\n"
     ]
    }
   ],
   "source": [
    "start = time()\n",
    "for v in tqdm(range(1, V+1)):\n",
    "    BellmanFord(G, V, v)\n",
    "print(f\"{time() - start}s\")"
   ]
  },
  {
   "cell_type": "code",
   "execution_count": 7,
   "metadata": {},
   "outputs": [
    {
     "name": "stdout",
     "output_type": "stream",
     "text": [
      "0.32108259201049805s\n"
     ]
    }
   ],
   "source": [
    "start = time()\n",
    "Floyd(M, V)\n",
    "print(f\"{time() - start}s\")"
   ]
  },
  {
   "cell_type": "code",
   "execution_count": 3,
   "metadata": {},
   "outputs": [],
   "source": [
    "MG = GraphConverter(M, V, E, inType=\"matrix\", returnType=\"dict\")"
   ]
  },
  {
   "cell_type": "code",
   "execution_count": 4,
   "metadata": {},
   "outputs": [
    {
     "name": "stderr",
     "output_type": "stream",
     "text": [
      "100%|██████████| 100/100 [00:00<00:00, 103.19it/s]"
     ]
    },
    {
     "name": "stdout",
     "output_type": "stream",
     "text": [
      "0.9711132049560547s\n"
     ]
    },
    {
     "name": "stderr",
     "output_type": "stream",
     "text": [
      "\n"
     ]
    }
   ],
   "source": [
    "start = time()\n",
    "for v in tqdm(range(1, V+1)): \n",
    "    Dijkstra(MG, V, v)\n",
    "print(f\"{time() - start}s\")"
   ]
  },
  {
   "cell_type": "code",
   "execution_count": 6,
   "metadata": {},
   "outputs": [
    {
     "name": "stderr",
     "output_type": "stream",
     "text": [
      "100%|██████████| 100/100 [00:00<00:00, 129.69it/s]"
     ]
    },
    {
     "name": "stdout",
     "output_type": "stream",
     "text": [
      "0.7730922698974609s\n"
     ]
    },
    {
     "name": "stderr",
     "output_type": "stream",
     "text": [
      "\n"
     ]
    }
   ],
   "source": [
    "start = time()\n",
    "for v in tqdm(range(1, V+1)):\n",
    "    BellmanFord(MG, V, v)\n",
    "print(f\"{time() - start}s\")"
   ]
  },
  {
   "attachments": {},
   "cell_type": "markdown",
   "metadata": {},
   "source": [
    "### Signed Graph"
   ]
  },
  {
   "cell_type": "code",
   "execution_count": 9,
   "metadata": {},
   "outputs": [
    {
     "name": "stderr",
     "output_type": "stream",
     "text": [
      "250it [00:00, 41658.10it/s]\n"
     ]
    }
   ],
   "source": [
    "V, E = 50, 250\n",
    "T = GraphGenerator(V, E, DMAX=20, signed=True)\n",
    "G = GraphConverter(T, V, E, returnType=\"dict\")\n",
    "M = GraphConverter(T, V, E, returnType=\"matrix\")"
   ]
  },
  {
   "cell_type": "code",
   "execution_count": 13,
   "metadata": {},
   "outputs": [
    {
     "name": "stderr",
     "output_type": "stream",
     "text": [
      "100%|██████████| 50/50 [00:00<00:00, 2437.87it/s]\n"
     ]
    },
    {
     "data": {
      "text/plain": [
       "0.022508859634399414"
      ]
     },
     "execution_count": 13,
     "metadata": {},
     "output_type": "execute_result"
    }
   ],
   "source": [
    "start = time()\n",
    "[BellmanFord(G, V, v) for v in tqdm(range(V))]\n",
    "time() - start"
   ]
  },
  {
   "cell_type": "code",
   "execution_count": 12,
   "metadata": {},
   "outputs": [
    {
     "data": {
      "text/plain": [
       "0.04201006889343262"
      ]
     },
     "execution_count": 12,
     "metadata": {},
     "output_type": "execute_result"
    }
   ],
   "source": [
    "start = time()\n",
    "Floyd(M, V)\n",
    "time() - start"
   ]
  },
  {
   "cell_type": "code",
   "execution_count": null,
   "metadata": {},
   "outputs": [],
   "source": []
  }
 ],
 "metadata": {
  "kernelspec": {
   "display_name": "Python 3",
   "language": "python",
   "name": "python3"
  },
  "language_info": {
   "codemirror_mode": {
    "name": "ipython",
    "version": 3
   },
   "file_extension": ".py",
   "mimetype": "text/x-python",
   "name": "python",
   "nbconvert_exporter": "python",
   "pygments_lexer": "ipython3",
   "version": "3.8.10"
  },
  "orig_nbformat": 4,
  "vscode": {
   "interpreter": {
    "hash": "70537a93d17007af823d85dcf0a8e7128e9e9b09a0e28091cd8821824950656f"
   }
  }
 },
 "nbformat": 4,
 "nbformat_minor": 2
}
